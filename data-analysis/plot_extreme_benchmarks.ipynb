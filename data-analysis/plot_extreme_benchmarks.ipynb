{
 "cells": [
  {
   "cell_type": "markdown",
   "metadata": {},
   "source": [
    "# Extreme benchmarks\n",
    "\n",
    "This notebook gets the most extreme benchmarks and plots them against each other."
   ]
  },
  {
   "cell_type": "markdown",
   "metadata": {},
   "source": [
    "## Compare metrics"
   ]
  },
  {
   "cell_type": "code",
   "execution_count": 74,
   "metadata": {},
   "outputs": [],
   "source": [
    "from get_all_metrics import get_metrics\n",
    "\n",
    "metrics_1_400 = list(get_metrics(\"../results/phase_3_400000ops_1_400\"))\n",
    "metrics_1_3600 = list(get_metrics(\"../results/phase_3_400000ops_1_3600\"))\n",
    "# metrics_8_400 = list(get_metrics(\"../results/phase_3_400000ops_8_400\"))\n",
    "# metrics_8_3600 = list(get_metrics(\"../results/phase_3_400000ops_8_3600\"))"
   ]
  },
  {
   "cell_type": "code",
   "execution_count": 97,
   "metadata": {},
   "outputs": [
    {
     "data": {
      "image/png": "[encoded data removed]",
      "text/plain": [
       "<Figure size 432x288 with 1 Axes>"
      ]
     },
     "metadata": {
      "needs_background": "light"
     },
     "output_type": "display_data"
    }
   ],
   "source": [
    "from matplotlib import pyplot as plt\n",
    "import numpy as np\n",
    "import math\n",
    "\n",
    "ax = plt.gca()\n",
    "ax.xaxis.set_major_locator(plt.NullLocator())\n",
    "ax.xaxis.set_minor_locator(plt.MultipleLocator(20))\n",
    "metrics_1_400[0].plot(kind='line', x='Timestamp', y='ReadThroughput', ax=ax, color='blue')\n",
    "metrics_1_400[1].plot(kind='line', x='Timestamp', y='ReadThroughput', ax=ax, color='blue')\n",
    "metrics_1_400[2].plot(kind='line', x='Timestamp', y='ReadThroughput', ax=ax, color='blue')\n",
    "metrics_1_400[3].plot(kind='line', x='Timestamp', y='ReadThroughput', ax=ax, color='blue')\n",
    "\n",
    "metrics_1_3600[0].plot(kind='line', x='Timestamp', y='ReadThroughput', ax=ax, color='red')\n",
    "metrics_1_3600[1].plot(kind='line', x='Timestamp', y='ReadThroughput', ax=ax, color='red')\n",
    "metrics_1_3600[2].plot(kind='line', x='Timestamp', y='ReadThroughput', ax=ax, color='red')\n",
    "metrics_1_3600[3].plot(kind='line', x='Timestamp', y='ReadThroughput', ax=ax, color='red')\n",
    "plt.show()\n"
   ]
  },
  {
   "cell_type": "markdown",
   "metadata": {},
   "source": [
    "### Example boxplot"
   ]
  },
  {
   "cell_type": "code",
   "execution_count": 76,
   "metadata": {},
   "outputs": [
    {
     "name": "stdout",
     "output_type": "stream",
     "text": [
      "   Location Letter     value\n",
      "0         1      A  0.894207\n",
      "1         1      A  0.541552\n",
      "2         1      A  0.378135\n",
      "3         1      A  0.158422\n",
      "4         1      A  0.519506\n"
     ]
    },
    {
     "data": {
      "image/png": "[encoded data removed]",
      "text/plain": [
       "<Figure size 432x288 with 1 Axes>"
      ]
     },
     "metadata": {
      "needs_background": "light"
     },
     "output_type": "display_data"
    }
   ],
   "source": [
    "import pandas as pd\n",
    "import numpy as np\n",
    "import seaborn as sns\n",
    "\n",
    "metrics_1_400[0] = metrics_1_400[0].assign(Location=1)\n",
    "metrics_1_400[1] = metrics_1_400[1].assign(Location=1)\n",
    "\n",
    "cdf_metrics = pd.concat([metrics_1_400[0], metrics_1_400[1]])\n",
    "mdf_metrics = pd.melt(cdf_metrics, id_vars=['Location'], var_name=['ReadThroughput'])\n",
    "\n",
    "\n",
    "data1 = pd.DataFrame(np.random.rand(17,3), columns=['A','B','C']).assign(Location=1)\n",
    "data2 = pd.DataFrame(np.random.rand(17,3)+0.2, columns=['A','B','C']).assign(Location=2)\n",
    "data3 = pd.DataFrame(np.random.rand(17,3)+0.4, columns=['A','B','C']).assign(Location=3)\n",
    "\n",
    "cdf = pd.concat([data1, data2, data3])    \n",
    "mdf = pd.melt(cdf, id_vars=['Location'], var_name=['Letter'])\n",
    "print(mdf.head())\n",
    "\n",
    "#    Location Letter     value\n",
    "# 0         1      A  0.223565\n",
    "# 1         1      A  0.515797\n",
    "# 2         1      A  0.377588\n",
    "# 3         1      A  0.687614\n",
    "# 4         1      A  0.094116\n",
    "\n",
    "ax = sns.boxplot(x=\"Location\", y=\"value\", hue=\"Letter\", data=mdf)    \n",
    "plt.show()"
   ]
  },
  {
   "cell_type": "markdown",
   "metadata": {},
   "source": [
    "## Compare latencies"
   ]
  },
  {
   "cell_type": "code",
   "execution_count": 77,
   "metadata": {},
   "outputs": [],
   "source": [
    "def get_line_with_find(lines, regex):\n",
    "    for index, line in enumerate(lines):\n",
    "        if line.find(regex) != -1:\n",
    "            return index\n",
    "    return -1\n",
    "\n",
    "\n",
    "def get_percentile_latency(percentile, filename):\n",
    "    file = open(filename, \"r\")\n",
    "    lines = map(lambda line: line.rstrip('\\n'), file.readlines())\n",
    "    \n",
    "    read_lines = list(filter(lambda line: line.find('[READ]') != -1,lines))[4:-1]\n",
    "    \n",
    "    specific_line = [line for line in read_lines if line.find(\"[READ], \" + percentile) != -1][0]\n",
    "\n",
    "    latency = specific_line.split()[-1]\n",
    "    return latency"
   ]
  },
  {
   "cell_type": "code",
   "execution_count": 78,
   "metadata": {},
   "outputs": [
    {
     "data": {
      "text/plain": [
       "'2949'"
      ]
     },
     "execution_count": 78,
     "metadata": {},
     "output_type": "execute_result"
    }
   ],
   "source": [
    "get_percentile_latency('95', \"../results/phase_3_400000ops_1_400\")"
   ]
  },
  {
   "cell_type": "code",
   "execution_count": 79,
   "metadata": {},
   "outputs": [],
   "source": [
    "def get_latency_tuple(load, threshold, filename_prefix = \"../results/phase_3_400000ops_\"):\n",
    "    filename = filename_prefix + str(threshold) + \"_\" + str(load)\n",
    "    latency = get_percentile_latency('95', filename)\n",
    "    return (load, int(latency))\n",
    "\n",
    "def get_latencies_for_threshold(threshold = 1, filename_prefix = \"../results/phase_3_400000ops_\"):\n",
    "    return list(map(lambda load: get_latency_tuple(load, threshold, filename_prefix), range(400, 3600, 200)))\n",
    "\n",
    "def print_latencies_for_threshold(threshold = 1, filename_prefix = \"../results/phase_3_400000ops_\"):    \n",
    "    for load in range(400, 3600, 200):\n",
    "        (load, latency) = get_latency_tuple(load, threshold, filename_prefix)\n",
    "        print(str(load) + \":\" + str(latency))"
   ]
  },
  {
   "cell_type": "code",
   "execution_count": 80,
   "metadata": {},
   "outputs": [
    {
     "name": "stdout",
     "output_type": "stream",
     "text": [
      "400:2901\n",
      "600:2841\n",
      "800:4035\n",
      "1000:3775\n",
      "1200:4763\n",
      "1400:4339\n",
      "1600:4407\n",
      "1800:3463\n",
      "2000:4359\n",
      "2200:3997\n",
      "2400:5179\n",
      "2600:4707\n",
      "2800:4567\n",
      "3000:4439\n",
      "3200:4863\n",
      "3400:4555\n"
     ]
    }
   ],
   "source": [
    "print_latencies_for_threshold(2)"
   ]
  },
  {
   "cell_type": "code",
   "execution_count": 81,
   "metadata": {},
   "outputs": [
    {
     "data": {
      "text/plain": [
       "(400, 2901)"
      ]
     },
     "execution_count": 81,
     "metadata": {},
     "output_type": "execute_result"
    }
   ],
   "source": [
    "get_latency_tuple(400, 2)"
   ]
  },
  {
   "cell_type": "code",
   "execution_count": 100,
   "metadata": {},
   "outputs": [
    {
     "data": {
      "image/png": "[encoded data removed]",
      "text/plain": [
       "<Figure size 432x288 with 1 Axes>"
      ]
     },
     "metadata": {
      "needs_background": "light"
     },
     "output_type": "display_data"
    }
   ],
   "source": [
    "f, ax = plt.subplots(1)\n",
    "\n",
    "for i in range(1, 3, 1):\n",
    "    latencies = get_latencies_for_threshold(i)\n",
    "    latencies_arr = np.asarray(latencies)\n",
    "\n",
    "    plt.plot(latencies_arr[:,0], latencies_arr[:,1])\n",
    "    ax.set_ylim(bottom=0, top=6000)\n",
    "\n",
    "plt.show()"
   ]
  },
  {
   "cell_type": "code",
   "execution_count": null,
   "metadata": {},
   "outputs": [],
   "source": []
  },
  {
   "cell_type": "code",
   "execution_count": null,
   "metadata": {},
   "outputs": [],
   "source": []
  },
  {
   "cell_type": "code",
   "execution_count": null,
   "metadata": {},
   "outputs": [],
   "source": []
  }
 ],
 "metadata": {
  "kernelspec": {
   "display_name": "Python 3",
   "language": "python",
   "name": "python3"
  },
  "language_info": {
   "codemirror_mode": {
    "name": "ipython",
    "version": 3
   },
   "file_extension": ".py",
   "mimetype": "text/x-python",
   "name": "python",
   "nbconvert_exporter": "python",
   "pygments_lexer": "ipython3",
   "version": "3.7.4"
  }
 },
 "nbformat": 4,
 "nbformat_minor": 2
}
