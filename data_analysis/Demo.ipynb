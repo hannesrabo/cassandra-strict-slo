{
 "cells": [
  {
   "cell_type": "markdown",
   "metadata": {},
   "source": [
    "# Demo - SLO Group 2"
   ]
  },
  {
   "cell_type": "code",
   "execution_count": 2,
   "metadata": {},
   "outputs": [],
   "source": [
    "from get_all_metrics import get_metrics\n",
    "import compile_benchmark_metrics\n",
    "from sklearn.preprocessing import MinMaxScaler\n",
    "import matplotlib.pyplot as plt\n",
    "import numpy as np\n",
    "import itertools\n",
    "from sklearn.linear_model import LinearRegression\n",
    "\n",
    "RANGE = list(range(1500, 5000, 500))\n",
    "PERCENTILE = '99.9'\n",
    "FILENAME = '../results/phase3_final_1000000ops_'\n",
    "TH_RANGE = list(range(4, 35, 3))\n",
    "\n",
    "# Get performance data for all load for a sigle threshold\n",
    "def get_performance_for_threshold(threshold):\n",
    "    data_list = []\n",
    "    for load in RANGE:\n",
    "        node_data = list(get_metrics(FILENAME+str(threshold)+\"_\" + str(load)))\n",
    "        data = compile_benchmark_metrics.get_statistics(node_data)\n",
    "        data_list.append((data, load))\n",
    "    return data_list\n",
    "\n",
    "def get_throughput_and_percentile(percentile, filename):\n",
    "    file = open(filename, \"r\")\n",
    "    lines = list(map(lambda line: line.rstrip('\\n'), file.readlines()))\n",
    "    \n",
    "    latency_line = [line for line in lines if line.find(\"[READ], \" + percentile) != -1][0]\n",
    "    throughput_line = [line for line in lines if line.find(\"Throughput(ops/sec)\") != -1][0]\n",
    "    \n",
    "    latency = latency_line.split()[-1]\n",
    "    throughput = throughput_line.split()[-1]\n",
    "    return latency, throughput\n",
    "\n",
    "# Return tuple with the real throughput from ycsb and the latency from ycsb\n",
    "def get_latency_tuple(load, threshold, filename_prefix = FILENAME):\n",
    "    filename = filename_prefix + str(threshold) + \"_\" + str(load)\n",
    "    latency, throughput = get_throughput_and_percentile(PERCENTILE, filename)\n",
    "    return (float(throughput), int(latency))\n",
    "\n",
    "# Get all the tuples\n",
    "def get_latencies_for_threshold(threshold = 1, filename_prefix = FILENAME):\n",
    "    return list(map(lambda load: get_latency_tuple(load, threshold, filename_prefix), RANGE))\n",
    "\n",
    "# Get files for a threshold. \n",
    "# Both file with performance and latency and add them\n",
    "def get_all_for_threshold(threshold):\n",
    "    performance_data = get_performance_for_threshold(threshold)\n",
    "    latency_data = get_latencies_for_threshold(threshold)\n",
    "    \n",
    "    return [(p, latency) for (p, (_th, latency)) in zip(performance_data, latency_data)]\n",
    "    \n",
    "# Do this for every threshold and make one list of them\n",
    "def get_all_data():\n",
    "    all_data = []\n",
    "    for th in TH_RANGE:\n",
    "        d = get_all_for_threshold(th)\n",
    "        l = zip(d, [th] * len(d))\n",
    "        all_data.extend(l)\n",
    "    return all_data"
   ]
  },
  {
   "cell_type": "markdown",
   "metadata": {},
   "source": [
    "## Reading Metrics and Performance"
   ]
  },
  {
   "cell_type": "code",
   "execution_count": 3,
   "metadata": {},
   "outputs": [
    {
     "name": "stdout",
     "output_type": "stream",
     "text": [
      "Data when SR threshold = 4:\n",
      "\n",
      "Load\t\tRead avg\tRead var\tWrite avg\tWrite var\t99.9th percentile latency\n",
      "1500            367.125         26.796875       19.25           0.1875          34015\n",
      "2000            488.25          44.6875         25.5            0.25            32719\n",
      "2500            610.5           79.25           31.75           0.1875          32799\n",
      "3000            732.25          104.6875        38.25           0.6875          34911\n",
      "3500            856.75          169.6875        45.0            1.0             34655\n",
      "4000            980.0           212.625         51.0            0.5             35263\n",
      "4500            1100.75         207.1875        57.5            1.25            34463\n",
      "\n",
      "Raw form:\n",
      "(((367.125, 26.796875, 19.25, 0.1875), 1500), 34015)\n"
     ]
    }
   ],
   "source": [
    "def print_all_for_threshold(threshold):\n",
    "    print(\"Data when SR threshold = \" + str(threshold) + \":\")\n",
    "    print()\n",
    "\n",
    "    print(\"Load\\t\\tRead avg\\tRead var\\tWrite avg\\tWrite var\\t99.9th percentile latency\")\n",
    "\n",
    "    for (((r_avg, r_var, w_avg, w_var), load), latency) in get_all_for_threshold(threshold):\n",
    "        print(str(load).ljust(16) + str(r_avg).ljust(16) + str(r_var).ljust(16) + str(w_avg).ljust(16) + str(w_var).ljust(16) + str(latency))\n",
    "\n",
    "    print()\n",
    "    print(\"Raw form:\")\n",
    "    print(get_all_for_threshold(threshold)[0])\n",
    "    \n",
    "print_all_for_threshold(TH_RANGE[0])"
   ]
  },
  {
   "cell_type": "markdown",
   "metadata": {},
   "source": [
    "## Show all benchmarks"
   ]
  },
  {
   "cell_type": "code",
   "execution_count": 4,
   "metadata": {},
   "outputs": [
    {
     "data": {
      "image/png": "[encoded data removed]",
      "text/plain": [
       "<Figure size 432x288 with 1 Axes>"
      ]
     },
     "metadata": {
      "needs_background": "light"
     },
     "output_type": "display_data"
    }
   ],
   "source": [
    "def distribution_between_x_and_y():\n",
    "    data = get_all_data()\n",
    "    x = []\n",
    "    y = []\n",
    "    w = []\n",
    "    for ((((perf1, perf2, perf3, perf4), load), latency), sr) in data:\n",
    "        x.append(sr)\n",
    "        y.append(load)\n",
    "    plt.scatter(y, x, color='r')\n",
    "distribution_between_x_and_y()"
   ]
  },
  {
   "cell_type": "code",
   "execution_count": 5,
   "metadata": {},
   "outputs": [
    {
     "data": {
      "image/png": "[encoded data removed]",
      "text/plain": [
       "<Figure size 432x288 with 1 Axes>"
      ]
     },
     "metadata": {
      "needs_background": "light"
     },
     "output_type": "display_data"
    }
   ],
   "source": [
    "def get_minimums():\n",
    "    data = get_all_data()\n",
    "\n",
    "    minimums = []\n",
    "\n",
    "    for r in RANGE:\n",
    "        data_points = []\n",
    "        for (((x, load), latency), threshold) in data:\n",
    "            if(load == r):\n",
    "                data_points.append((latency, threshold))\n",
    "\n",
    "        (min_latency, min_threshold) = data_points[0]\n",
    "        for (latency, threshold) in data_points:\n",
    "            if(latency < min_latency):\n",
    "                min_latency = latency\n",
    "                min_threshold = threshold\n",
    "\n",
    "        minimums.append((r, min_latency, min_threshold))\n",
    "    return minimums\n",
    "\n",
    "def distribution_between_x_and_y_with_best():\n",
    "    data = get_all_data()\n",
    "    x = []\n",
    "    y = []\n",
    "    w = []\n",
    "    for ((((perf1, perf2, perf3, perf4), load), latency), sr) in data:\n",
    "        x.append(sr)\n",
    "        y.append(load)\n",
    "\n",
    "        \n",
    "    plt.scatter(y, x, color='r', alpha=0.5, marker='.')\n",
    "    \n",
    "    best_x = []\n",
    "    best_y = []\n",
    "    \n",
    "    for (m_y, _w, m_x) in get_minimums():\n",
    "        best_x.append(m_x)\n",
    "        best_y.append(m_y)\n",
    "    \n",
    "    plt.scatter(best_y, best_x, color='b')\n",
    "    \n",
    "distribution_between_x_and_y_with_best()"
   ]
  },
  {
   "cell_type": "markdown",
   "metadata": {},
   "source": [
    "## Weighted scaling"
   ]
  },
  {
   "cell_type": "code",
   "execution_count": 6,
   "metadata": {},
   "outputs": [],
   "source": [
    "# Extract data and scale it\n",
    "def get_scaled_data():\n",
    "    data = [((x, x_target), y, weight) for (((x, x_target), weight), y) in get_all_data()]\n",
    "    x, y, weight = zip(*itertools.chain(data))\n",
    "\n",
    "    def weight_transformer(v):\n",
    "        return (1 - v)**5\n",
    "\n",
    "    # Scaling weights. MinMax gives 0 for the lowest and 1 for the highest. Linear\n",
    "    # We apply the weight_transformer() to give higher weights to those elements that really matter.\n",
    "    scaler = MinMaxScaler()\n",
    "    scaler.fit(np.asarray(weight).reshape(-1, 1))\n",
    "    s_weight = scaler.transform(np.asarray(weight).reshape(-1, 1))\n",
    "    s_weight = [weight_transformer(e[0]) for e in s_weight]\n",
    "\n",
    "    # Extracting the load vs target load\n",
    "    x_target = [target for (_x, target) in x]\n",
    "    x_load = [x for (x, _target) in x]\n",
    "    \n",
    "    return (x_load, x_target, y, s_weight)"
   ]
  },
  {
   "cell_type": "code",
   "execution_count": 9,
   "metadata": {},
   "outputs": [
    {
     "data": {
      "image/png": "[encoded data removed]",
      "text/plain": [
       "<Figure size 432x288 with 1 Axes>"
      ]
     },
     "metadata": {
      "needs_background": "light"
     },
     "output_type": "display_data"
    }
   ],
   "source": [
    "def plot_scaling_curve():\n",
    "    y_range = list(range(20000, 40000, 1000))\n",
    "    \n",
    "    def weight_transformer(v):\n",
    "            return (1 - v)**5\n",
    "\n",
    "    # Scaling weights. MinMax gives 0 for the lowest and 1 for the highest. Linear\n",
    "    # I apply the weight_transformer() to give higher weights to those elements that really matter.\n",
    "    scaler = MinMaxScaler()\n",
    "    scaler.fit(np.asarray(y_range).reshape(-1, 1))\n",
    "    s_weight = scaler.transform(np.asarray(y_range).reshape(-1, 1))\n",
    "    s_weight = [weight_transformer(e[0]) for e in s_weight]\n",
    "    \n",
    "    with open(\"scaling-points.csv\", \"w\") as f:\n",
    "        f.write(\"x, y\\n\")\n",
    "        for x, y in zip(y_range, s_weight):\n",
    "            f.write(str(x) + \", \" + str(y) + \"\\n\")\n",
    "    \n",
    "    plt.scatter(y_range, s_weight, color='r')\n",
    "    \n",
    "# We can see that values which has low latency are important (we want to predict that this is good)\n",
    "# while the large values are not very important.\n",
    "plot_scaling_curve()"
   ]
  },
  {
   "cell_type": "markdown",
   "metadata": {},
   "source": [
    "### Heatmap\n",
    "\n",
    "<img src=\"heatmap.png\" alt=\"Heatmap\" style=\"width:60%\"/>"
   ]
  },
  {
   "cell_type": "markdown",
   "metadata": {},
   "source": [
    "## Linear weighted regression"
   ]
  },
  {
   "cell_type": "code",
   "execution_count": 10,
   "metadata": {},
   "outputs": [],
   "source": [
    "x, x_target, y, w = get_scaled_data()\n",
    "model = LinearRegression()\n",
    "\n",
    "reg = model.fit(np.asarray(x), np.asarray(y), sample_weight=np.asarray(w))"
   ]
  },
  {
   "cell_type": "markdown",
   "metadata": {},
   "source": [
    "<!-- ![](regression-equation.png) -->\n",
    "\n",
    "<img src=\"regression-equation.png\" alt=\"Regression Equation\" style=\"width:80%\"/>"
   ]
  },
  {
   "cell_type": "code",
   "execution_count": 11,
   "metadata": {},
   "outputs": [
    {
     "data": {
      "image/png": "[encoded data removed]",
      "text/plain": [
       "<Figure size 432x288 with 1 Axes>"
      ]
     },
     "metadata": {
      "needs_background": "light"
     },
     "output_type": "display_data"
    }
   ],
   "source": [
    "distribution_between_x_and_y()"
   ]
  },
  {
   "cell_type": "code",
   "execution_count": 12,
   "metadata": {},
   "outputs": [
    {
     "name": "stdout",
     "output_type": "stream",
     "text": [
      "Regression values:\n",
      "\n",
      "Intercept\tRead avg weight\t\tRead var weight\t\tWrite avg weight\tWrite var weight\n",
      "13.80302        -0.08933                0.046795                1.664629                -2.25407                \n",
      "\n"
     ]
    },
    {
     "data": {
      "image/png": "[encoded data removed]",
      "text/plain": [
       "<Figure size 432x288 with 1 Axes>"
      ]
     },
     "metadata": {
      "needs_background": "light"
     },
     "output_type": "display_data"
    }
   ],
   "source": [
    "predictions = list(reg.predict(np.array(x)))\n",
    "plt.scatter(x_target, predictions, color='r')\n",
    "\n",
    "\n",
    "print(\"Regression values:\")\n",
    "print()\n",
    "\n",
    "print(\"Intercept\\tRead avg weight\\t\\tRead var weight\\t\\tWrite avg weight\\tWrite var weight\")\n",
    "\n",
    "coeficients = list(map(lambda val: str(val)[:8].ljust(24) ,reg.coef_))\n",
    "\n",
    "print(str(reg.intercept_)[:8].ljust(16) + coeficients[0] + coeficients[1] + coeficients[2] + coeficients[3])\n",
    "print()"
   ]
  },
  {
   "cell_type": "code",
   "execution_count": null,
   "metadata": {},
   "outputs": [],
   "source": []
  }
 ],
 "metadata": {
  "kernelspec": {
   "display_name": "env-jit",
   "language": "python",
   "name": "env-jit"
  },
  "language_info": {
   "codemirror_mode": {
    "name": "ipython",
    "version": 3
   },
   "file_extension": ".py",
   "mimetype": "text/x-python",
   "name": "python",
   "nbconvert_exporter": "python",
   "pygments_lexer": "ipython3",
   "version": "3.7.4"
  }
 },
 "nbformat": 4,
 "nbformat_minor": 2
}
