{
 "cells": [
  {
   "cell_type": "markdown",
   "metadata": {},
   "source": [
    "# Evaluate metrics as an indicator of load"
   ]
  },
  {
   "cell_type": "markdown",
   "metadata": {},
   "source": [
    "## Get a list of all benchmarks"
   ]
  },
  {
   "cell_type": "code",
   "execution_count": 1,
   "metadata": {},
   "outputs": [
    {
     "data": {
      "text/plain": [
       "((367.125, 26.796875, 19.25, 0.1875), 1500)"
      ]
     },
     "execution_count": 1,
     "metadata": {},
     "output_type": "execute_result"
    }
   ],
   "source": [
    "from get_all_metrics import get_metrics\n",
    "import compile_benchmark_metrics\n",
    "\n",
    "RANGE = list(range(1500, 5000, 500))\n",
    "PERCENTILE = '99.9'\n",
    "FILENAME = '../results/phase3_final_1000000ops_'\n",
    "TH_RANGE = list(range(4, 35, 3))\n",
    "\n",
    "# Get performance data for all load for a sigle threshold\n",
    "def get_performance_for_threshold(threshold):\n",
    "    data_list = []\n",
    "    for load in RANGE:\n",
    "        node_data = list(get_metrics(FILENAME+str(threshold)+\"_\" + str(load)))\n",
    "        data = compile_benchmark_metrics.get_statistics(node_data)\n",
    "        data_list.append((data, load))\n",
    "    return data_list\n",
    "\n",
    "flatten = lambda l: [item for sublist in l for item in sublist]\n",
    "\n",
    "all_benchmarks = list(flatten(map(lambda threshold: get_performance_for_threshold(threshold), TH_RANGE)))\n",
    "all_benchmarks[0]"
   ]
  },
  {
   "cell_type": "markdown",
   "metadata": {},
   "source": [
    "## Parse out only one metric"
   ]
  },
  {
   "cell_type": "code",
   "execution_count": 12,
   "metadata": {},
   "outputs": [
    {
     "name": "stdout",
     "output_type": "stream",
     "text": [
      "((367.125, 26.796875, 19.25, 0.1875), 1500)\n",
      "(1500, 367.125)\n",
      "(1500, 26.796875)\n",
      "(1500, 19.25)\n",
      "(1500, 0.1875)\n"
     ]
    },
    {
     "data": {
      "text/plain": [
       "(367.125,\n",
       " 488.25,\n",
       " 610.5,\n",
       " 732.25,\n",
       " 856.75,\n",
       " 980.0,\n",
       " 1100.75,\n",
       " 365.75,\n",
       " 488.25,\n",
       " 609.25,\n",
       " 732.75,\n",
       " 854.0,\n",
       " 975.75,\n",
       " 1096.5,\n",
       " 365.75,\n",
       " 488.5,\n",
       " 611.375,\n",
       " 733.5,\n",
       " 856.25,\n",
       " 977.75,\n",
       " 1098.0,\n",
       " 366.5,\n",
       " 488.5,\n",
       " 610.375,\n",
       " 732.25,\n",
       " 859.5,\n",
       " 979.25,\n",
       " 1122.125,\n",
       " 366.5,\n",
       " 489.0,\n",
       " 610.0,\n",
       " 731.5,\n",
       " 854.25,\n",
       " 978.0,\n",
       " 1098.5,\n",
       " 367.0,\n",
       " 488.5,\n",
       " 611.0,\n",
       " 732.625,\n",
       " 854.25,\n",
       " 975.5,\n",
       " 1104.625,\n",
       " 366.0,\n",
       " 489.25,\n",
       " 610.75,\n",
       " 733.25,\n",
       " 860.75,\n",
       " 976.0,\n",
       " 1097.75,\n",
       " 366.0,\n",
       " 489.0,\n",
       " 610.875,\n",
       " 732.25,\n",
       " 855.0,\n",
       " 976.625,\n",
       " 1099.5,\n",
       " 366.5,\n",
       " 488.25,\n",
       " 610.875,\n",
       " 732.25,\n",
       " 857.0,\n",
       " 976.0,\n",
       " 1097.25,\n",
       " 366.625,\n",
       " 488.75,\n",
       " 611.0,\n",
       " 733.5,\n",
       " 859.5,\n",
       " 977.875,\n",
       " 1099.5,\n",
       " 366.5,\n",
       " 488.25,\n",
       " 610.75,\n",
       " 732.75,\n",
       " 854.5,\n",
       " 976.125,\n",
       " 1100.75)"
      ]
     },
     "execution_count": 12,
     "metadata": {},
     "output_type": "execute_result"
    }
   ],
   "source": [
    "read_throughput_list  = list(map(lambda benchmark: (benchmark[1], benchmark[0][0]), all_benchmarks))\n",
    "read_variance_list    = list(map(lambda benchmark: (benchmark[1], benchmark[0][1]), all_benchmarks))\n",
    "write_throughput_list = list(map(lambda benchmark: (benchmark[1], benchmark[0][2]), all_benchmarks))\n",
    "write_variance_list   = list(map(lambda benchmark: (benchmark[1], benchmark[0][3]), all_benchmarks))\n",
    "\n",
    "print(all_benchmarks[0])\n",
    "print(read_throughput_list[0])\n",
    "print(read_variance_list[0])\n",
    "print(write_throughput_list[0])\n",
    "print(write_variance_list[0])"
   ]
  },
  {
   "cell_type": "markdown",
   "metadata": {},
   "source": [
    "## Plot the metrics"
   ]
  },
  {
   "cell_type": "code",
   "execution_count": 3,
   "metadata": {},
   "outputs": [
    {
     "data": {
      "image/png": "[encoded data removed]",
      "text/plain": [
       "<Figure size 432x288 with 1 Axes>"
      ]
     },
     "metadata": {
      "needs_background": "light"
     },
     "output_type": "display_data"
    },
    {
     "data": {
      "image/png": "[encoded data removed]",
      "text/plain": [
       "<Figure size 432x288 with 1 Axes>"
      ]
     },
     "metadata": {
      "needs_background": "light"
     },
     "output_type": "display_data"
    },
    {
     "data": {
      "image/png": "[encoded data removed]",
      "text/plain": [
       "<Figure size 432x288 with 1 Axes>"
      ]
     },
     "metadata": {
      "needs_background": "light"
     },
     "output_type": "display_data"
    },
    {
     "data": {
      "image/png": "[encoded data removed]",
      "text/plain": [
       "<Figure size 432x288 with 1 Axes>"
      ]
     },
     "metadata": {
      "needs_background": "light"
     },
     "output_type": "display_data"
    }
   ],
   "source": [
    "from matplotlib import pyplot as plt\n",
    "\n",
    "# plt.scatter(read_throughput_list)\n",
    "plt.scatter(*zip(*read_throughput_list))\n",
    "plt.show()\n",
    "plt.scatter(*zip(*read_variance_list))\n",
    "plt.show()\n",
    "plt.scatter(*zip(*write_throughput_list))\n",
    "plt.show()\n",
    "plt.scatter(*zip(*write_variance_list))\n",
    "plt.show()"
   ]
  },
  {
   "cell_type": "code",
   "execution_count": 15,
   "metadata": {},
   "outputs": [],
   "source": [
    "with open(\"comparing_input_metrics.csv\", \"w\") as f:\n",
    "    f.write(\"target, r_throughput, r_variance, w_throughput, w_variance\\n\")\n",
    "    \n",
    "    for v in zip(list(zip(*read_throughput_list))[0], list(zip(*read_throughput_list))[1], list(zip(*read_variance_list))[1], list(zip(*write_throughput_list))[1],list(zip(*write_variance_list))[1]):\n",
    "        f.write(str(v)[1:-1] + \"\\n\")"
   ]
  }
 ],
 "metadata": {
  "kernelspec": {
   "display_name": "Python 3",
   "language": "python",
   "name": "python3"
  },
  "language_info": {
   "codemirror_mode": {
    "name": "ipython",
    "version": 3
   },
   "file_extension": ".py",
   "mimetype": "text/x-python",
   "name": "python",
   "nbconvert_exporter": "python",
   "pygments_lexer": "ipython3",
   "version": "3.7.4"
  }
 },
 "nbformat": 4,
 "nbformat_minor": 2
}
