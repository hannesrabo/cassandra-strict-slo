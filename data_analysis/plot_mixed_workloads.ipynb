{
 "cells": [
  {
   "cell_type": "code",
   "execution_count": 11,
   "metadata": {},
   "outputs": [
    {
     "data": {
      "text/plain": [
       "'/Users/jcelik/Coding/ik2200/cassandra-strict-slo/data_analysis'"
      ]
     },
     "execution_count": 11,
     "metadata": {},
     "output_type": "execute_result"
    }
   ],
   "source": [
    "import os\n",
    "cwd = os.getcwd()\n",
    "cwd"
   ]
  },
  {
   "cell_type": "code",
   "execution_count": 12,
   "metadata": {},
   "outputs": [],
   "source": [
    "RESULTS_DIR = \"../results\""
   ]
  },
  {
   "cell_type": "code",
   "execution_count": 13,
   "metadata": {},
   "outputs": [
    {
     "name": "stdout",
     "output_type": "stream",
     "text": [
      "mixload_1000000ops_10_Client1\n",
      "mixload_1000000ops_1_Client1\n",
      "mixload_1000000ops_0_Client1\n",
      "mixload_1000000ops_30_Client1\n",
      "mixload_1000000ops_20_Client1\n",
      "mixload_1000000ops_5_Client1\n",
      "mixload_1000000ops_40_Client1\n"
     ]
    }
   ],
   "source": [
    "import os\n",
    "for file in os.listdir(RESULTS_DIR):\n",
    "    if file.startswith(\"mixload_1000000ops\") and file.endswith(\"Client1\"):\n",
    "        print(file)"
   ]
  },
  {
   "cell_type": "code",
   "execution_count": 33,
   "metadata": {},
   "outputs": [
    {
     "data": {
      "text/plain": [
       "['../results/mixload_1000000ops_10_Client1',\n",
       " '../results/mixload_1000000ops_1_Client1',\n",
       " '../results/mixload_1000000ops_0_Client1',\n",
       " '../results/mixload_1000000ops_30_Client1',\n",
       " '../results/mixload_1000000ops_20_Client1',\n",
       " '../results/mixload_1000000ops_5_Client1',\n",
       " '../results/mixload_1000000ops_40_Client1']"
      ]
     },
     "execution_count": 33,
     "metadata": {},
     "output_type": "execute_result"
    }
   ],
   "source": [
    "mixload_files = list(map(lambda file: RESULTS_DIR + \"/\" + file,\n",
    "                    filter(lambda file: \n",
    "                       file.startswith(\"mixload_1000000ops\") and file.endswith(\"Client1\"),\n",
    "                       os.listdir(RESULTS_DIR)\n",
    "                    )))\n",
    "mixload_files"
   ]
  },
  {
   "cell_type": "code",
   "execution_count": 62,
   "metadata": {},
   "outputs": [
    {
     "data": {
      "text/plain": [
       "[(10.0, 1430),\n",
       " (20.0, 1817),\n",
       " (30.0, 2191),\n",
       " (40.0, 2605),\n",
       " (50.0, 3031),\n",
       " (60.0, 3483),\n",
       " (70.0, 3977),\n",
       " (80.0, 4683),\n",
       " (90.0, 6007),\n",
       " (95.0, 7843),\n",
       " (96.0, 8607),\n",
       " (97.0, 9583),\n",
       " (98.0, 11071),\n",
       " (99.0, 13823),\n",
       " (99.1, 14327),\n",
       " (99.2, 14919),\n",
       " (99.3, 15655),\n",
       " (99.4, 16495),\n",
       " (99.5, 17503),\n",
       " (99.6, 18639),\n",
       " (99.7, 20463),\n",
       " (99.8, 23311),\n",
       " (99.85, 25135),\n",
       " (99.89, 27599),\n",
       " (99.9, 28495)]"
      ]
     },
     "execution_count": 62,
     "metadata": {},
     "output_type": "execute_result"
    }
   ],
   "source": [
    "def get_percentiles(filename):\n",
    "    file = open(filename, \"r\")\n",
    "    lines = list(map(lambda line: line.rstrip('\\n'), file.readlines()))\n",
    "\n",
    "    # Remove everything before \"Starting test\"\n",
    "    def get_line_with_find(lines, regex):\n",
    "        for index, line in enumerate(lines):\n",
    "            if line.find(regex) != -1:\n",
    "                return index\n",
    "        return -1\n",
    "\n",
    "    test_index = get_line_with_find(lines, 'Starting test.')\n",
    "\n",
    "    full_test = lines[test_index + 1:]\n",
    "    \n",
    "    read_test_lines = list(\n",
    "        filter(lambda line: line.find(\"[READ]\") != -1, \n",
    "        filter(lambda line: line.find(\"Percentile\") != -1, full_test)\n",
    "    ))\n",
    "\n",
    "    def get_tuple_from_line(line):\n",
    "        parts = line.split(\",\")\n",
    "        \n",
    "        percentile_string = parts[1].strip()\n",
    "        percentile = percentile_string.split(\"Percentile\")[0].replace(\"th\", \"\")\n",
    "        percentile = float(percentile)\n",
    "        \n",
    "        latency_string = parts[2].strip()\n",
    "        latency = int(latency_string)\n",
    "        \n",
    "        return percentile, latency\n",
    "    \n",
    "    return list(map(get_tuple_from_line, read_test_lines))\n",
    "    \n",
    "#     print(get_tuple_from_line(read_test_lines[0]))\n",
    "#     for line in read_test_lines:\n",
    "#         print(line)\n",
    "    \n",
    "    \n",
    "get_percentiles(mixload_files[0])"
   ]
  },
  {
   "cell_type": "code",
   "execution_count": 70,
   "metadata": {},
   "outputs": [
    {
     "data": {
      "text/plain": [
       "('10',\n",
       " [(10.0, 1430),\n",
       "  (20.0, 1817),\n",
       "  (30.0, 2191),\n",
       "  (40.0, 2605),\n",
       "  (50.0, 3031),\n",
       "  (60.0, 3483),\n",
       "  (70.0, 3977),\n",
       "  (80.0, 4683),\n",
       "  (90.0, 6007),\n",
       "  (95.0, 7843),\n",
       "  (96.0, 8607),\n",
       "  (97.0, 9583),\n",
       "  (98.0, 11071),\n",
       "  (99.0, 13823),\n",
       "  (99.1, 14327),\n",
       "  (99.2, 14919),\n",
       "  (99.3, 15655),\n",
       "  (99.4, 16495),\n",
       "  (99.5, 17503),\n",
       "  (99.6, 18639),\n",
       "  (99.7, 20463),\n",
       "  (99.8, 23311),\n",
       "  (99.85, 25135),\n",
       "  (99.89, 27599),\n",
       "  (99.9, 28495)])"
      ]
     },
     "execution_count": 70,
     "metadata": {},
     "output_type": "execute_result"
    }
   ],
   "source": [
    "def get_cdf_for_file(filename):\n",
    "    threshold = filename.split(\"1000000ops_\")[1].split(\"_\")[0]\n",
    "    return threshold, get_percentiles(filename)\n",
    "    \n",
    "get_cdf_for_file(mixload_files[0])"
   ]
  },
  {
   "cell_type": "code",
   "execution_count": 72,
   "metadata": {},
   "outputs": [
    {
     "data": {
      "text/plain": [
       "('10',\n",
       " [(10.0, 1430),\n",
       "  (20.0, 1817),\n",
       "  (30.0, 2191),\n",
       "  (40.0, 2605),\n",
       "  (50.0, 3031),\n",
       "  (60.0, 3483),\n",
       "  (70.0, 3977),\n",
       "  (80.0, 4683),\n",
       "  (90.0, 6007),\n",
       "  (95.0, 7843),\n",
       "  (96.0, 8607),\n",
       "  (97.0, 9583),\n",
       "  (98.0, 11071),\n",
       "  (99.0, 13823),\n",
       "  (99.1, 14327),\n",
       "  (99.2, 14919),\n",
       "  (99.3, 15655),\n",
       "  (99.4, 16495),\n",
       "  (99.5, 17503),\n",
       "  (99.6, 18639),\n",
       "  (99.7, 20463),\n",
       "  (99.8, 23311),\n",
       "  (99.85, 25135),\n",
       "  (99.89, 27599),\n",
       "  (99.9, 28495)])"
      ]
     },
     "execution_count": 72,
     "metadata": {},
     "output_type": "execute_result"
    }
   ],
   "source": [
    "cdfs = list(map(get_cdf_for_file, mixload_files))\n",
    "cdfs[0]"
   ]
  },
  {
   "cell_type": "code",
   "execution_count": null,
   "metadata": {},
   "outputs": [],
   "source": [
    "# Someone plot cdfs here"
   ]
  }
 ],
 "metadata": {
  "kernelspec": {
   "display_name": "Python 3",
   "language": "python",
   "name": "python3"
  },
  "language_info": {
   "codemirror_mode": {
    "name": "ipython",
    "version": 3
   },
   "file_extension": ".py",
   "mimetype": "text/x-python",
   "name": "python",
   "nbconvert_exporter": "python",
   "pygments_lexer": "ipython3",
   "version": "3.7.4"
  }
 },
 "nbformat": 4,
 "nbformat_minor": 2
}
