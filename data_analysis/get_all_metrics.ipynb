{
 "cells": [
  {
   "cell_type": "code",
   "execution_count": 10,
   "metadata": {},
   "outputs": [],
   "source": [
    "import re\n",
    "import pandas as pd\n",
    "\n",
    "from os import listdir\n",
    "from os.path import isfile, join"
   ]
  },
  {
   "cell_type": "code",
   "execution_count": 8,
   "metadata": {},
   "outputs": [],
   "source": [
    "def get_timestamps(filename):\n",
    "    file = open(filename, \"r\")\n",
    "    lines = list(map(lambda line: line.rstrip('\\n'), file.readlines()))\n",
    "\n",
    "    \n",
    "    # Remove everything before \"Starting test\"\n",
    "    def get_line_with_find(lines, regex):\n",
    "        for index, line in enumerate(lines):\n",
    "            if line.find(regex) != -1:\n",
    "                return index\n",
    "        return -1\n",
    "\n",
    "    body_index = get_line_with_find(lines, 'Starting test.')\n",
    "\n",
    "    body = lines[body_index + 1:]\n",
    "    \n",
    "    # Get only data lines\n",
    "    regex_pattern = re.compile(\n",
    "        \"^[0-9]{4}-(0[1-9]|1[0-2])-(0[1-9]|[1-2][0-9]|3[0-1]) (2[0-3]|[01][0-9]):[0-5][0-9]:[0-5][0-9]:[0-9]{3}\")\n",
    "    data_lines = list(filter(regex_pattern.match, body))\n",
    "    \n",
    "    # Get first and last line\n",
    "    first_line = data_lines[0]\n",
    "    last_line = data_lines[-1]\n",
    "    \n",
    "    # Parse the timestamps\n",
    "    start_time_string = first_line.split()[0] + ' ' + first_line.split()[1][:12]\n",
    "    end_time_string = last_line.split()[0] + ' ' + last_line.split()[1][:12]\n",
    "\n",
    "    return start_time_string, end_time_string"
   ]
  },
  {
   "cell_type": "code",
   "execution_count": 26,
   "metadata": {},
   "outputs": [],
   "source": [
    "def get_metric_filenames(dirname):\n",
    "        onlyfiles = [f for f in listdir(dirname) if isfile(join(dirname, f))]\n",
    "        return onlyfiles"
   ]
  },
  {
   "cell_type": "code",
   "execution_count": 58,
   "metadata": {},
   "outputs": [],
   "source": [
    "def create_metric_dataframe(filename, start_time_string, end_time_string):\n",
    "    metrics_df = pd.read_csv(filename, parse_dates=True, infer_datetime_format=True, skipinitialspace=True)\n",
    "    metrics_df = metrics_df.dropna(axis='columns', how='all')\n",
    "\n",
    "    # Filter out rows that are before or after the benchmark\n",
    "    in_benchmark = (metrics_df['Timestamp'] > start_time_string) & (metrics_df['Timestamp'] < end_time_string)\n",
    "    metrics_df = metrics_df[in_benchmark]\n",
    "    \n",
    "    #Rename columns\n",
    "    metrics_df = metrics_df.rename(columns={\n",
    "        \"ReadLatency1\": \"ReadThroughput_avg_1minute\",\n",
    "        \"WriteLatency1\": \"WriteThroughput_avg_1minute\"})\n",
    "\n",
    "    # Calculate throughput\n",
    "    metrics_df['ReadThroughput'] = metrics_df['ReadCount'] - metrics_df['ReadCount'].shift(1)\n",
    "    metrics_df['WriteThroughput'] = metrics_df['WriteCount'] - metrics_df['WriteCount'].shift(1)\n",
    "\n",
    "    metrics_df = metrics_df.fillna(0)\n",
    "\n",
    "    return metrics_df"
   ]
  },
  {
   "cell_type": "code",
   "execution_count": 59,
   "metadata": {},
   "outputs": [],
   "source": [
    "def get_metrics(filename):\n",
    "    # Get start and end time of benchmark\n",
    "    start_time_string, end_time_string = get_timestamps(filename + \"_stderr\")\n",
    "\n",
    "    # Get metric filenames\n",
    "    metrics_dir = filename + \"_metrics\"\n",
    "    metric_filenames = get_metric_filenames(metrics_dir)\n",
    "    return map(lambda metric_filename: create_metric_dataframe(\n",
    "        metrics_dir + \"/\" + metric_filename, start_time_string, end_time_string), metric_filenames)"
   ]
  },
  {
   "cell_type": "code",
   "execution_count": null,
   "metadata": {},
   "outputs": [],
   "source": []
  },
  {
   "cell_type": "code",
   "execution_count": null,
   "metadata": {},
   "outputs": [],
   "source": []
  }
 ],
 "metadata": {
  "kernelspec": {
   "display_name": "Python 3",
   "language": "python",
   "name": "python3"
  },
  "language_info": {
   "codemirror_mode": {
    "name": "ipython",
    "version": 3
   },
   "file_extension": ".py",
   "mimetype": "text/x-python",
   "name": "python",
   "nbconvert_exporter": "python",
   "pygments_lexer": "ipython3",
   "version": "3.7.4"
  }
 },
 "nbformat": 4,
 "nbformat_minor": 2
}
